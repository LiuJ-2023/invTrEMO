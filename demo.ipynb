{
 "cells": [
  {
   "cell_type": "markdown",
   "metadata": {},
   "source": [
    "This notebook aims to introduce how to run ITEMO"
   ]
  },
  {
   "cell_type": "code",
   "execution_count": 10,
   "metadata": {},
   "outputs": [],
   "source": [
    "from invTrEMO import invTrEMO"
   ]
  },
  {
   "cell_type": "markdown",
   "metadata": {},
   "source": [
    "First, let us define the target problem. In this notebook, we employ mDTLZ2-(1,0) as the example"
   ]
  },
  {
   "cell_type": "code",
   "execution_count": 11,
   "metadata": {},
   "outputs": [],
   "source": [
    "import dtlz\n",
    "test_problem = dtlz.DTLZ2(obj_num=3,n_var=8)"
   ]
  },
  {
   "cell_type": "markdown",
   "metadata": {},
   "source": []
  },
  {
   "cell_type": "markdown",
   "metadata": {},
   "source": [
    "Then, generate the source dataset. The user could generate any source dataset by using \"creat_source_data.py\". Here, we directly use a predefined dataset."
   ]
  },
  {
   "cell_type": "code",
   "execution_count": 12,
   "metadata": {},
   "outputs": [],
   "source": [
    "import pickle\n",
    "\n",
    "source_data = pickle.load(open(\"source_data_dtlz2_hs.p\", \"rb\"))"
   ]
  },
  {
   "cell_type": "markdown",
   "metadata": {},
   "source": [
    "After the preparion, we can run ITEMO"
   ]
  },
  {
   "cell_type": "code",
   "execution_count": 13,
   "metadata": {},
   "outputs": [
    {
     "name": "stdout",
     "output_type": "stream",
     "text": [
      "invTrEMO IGD: 0.4828591457455559\n",
      "invTrEMO IGD: 0.47998237490080936\n",
      "invTrEMO IGD: 0.46691557157821106\n",
      "invTrEMO IGD: 0.4298728676416778\n",
      "invTrEMO IGD: 0.40390306156711575\n",
      "invTrEMO IGD: 0.3949843663051911\n",
      "invTrEMO IGD: 0.3701611745519288\n",
      "invTrEMO IGD: 0.3699161342894426\n",
      "invTrEMO IGD: 0.32415897768357893\n",
      "invTrEMO IGD: 0.29934859309424894\n",
      "invTrEMO IGD: 0.2743626359592569\n",
      "invTrEMO IGD: 0.27320263046035026\n",
      "invTrEMO IGD: 0.2639073590801971\n",
      "invTrEMO IGD: 0.2639073590801971\n",
      "invTrEMO IGD: 0.2554512733804288\n",
      "invTrEMO IGD: 0.25421480482267633\n",
      "invTrEMO IGD: 0.24954442331295654\n",
      "invTrEMO IGD: 0.24067560628572646\n",
      "invTrEMO IGD: 0.2401690021055595\n",
      "invTrEMO IGD: 0.24005750403298276\n",
      "invTrEMO IGD: 0.23978585970726335\n",
      "invTrEMO IGD: 0.2364269280361298\n",
      "invTrEMO IGD: 0.2364269280361298\n",
      "invTrEMO IGD: 0.23435617017263038\n",
      "invTrEMO IGD: 0.234183902051583\n",
      "invTrEMO IGD: 0.23136229426675428\n",
      "invTrEMO IGD: 0.2313532955571336\n",
      "invTrEMO IGD: 0.22980080984599544\n",
      "invTrEMO IGD: 0.2201716651876047\n",
      "invTrEMO IGD: 0.2201716651876047\n",
      "invTrEMO IGD: 0.18268053899420114\n",
      "invTrEMO IGD: 0.18244624252646682\n",
      "invTrEMO IGD: 0.18123906082956437\n",
      "invTrEMO IGD: 0.1760303113150566\n",
      "invTrEMO IGD: 0.17577798009201617\n",
      "invTrEMO IGD: 0.17123073197045957\n",
      "invTrEMO IGD: 0.16954530305674706\n",
      "invTrEMO IGD: 0.1692179013584252\n",
      "invTrEMO IGD: 0.15533018310096777\n",
      "invTrEMO IGD: 0.14750904050071637\n",
      "invTrEMO IGD: 0.14497130423311538\n",
      "invTrEMO IGD: 0.1385392195779009\n",
      "invTrEMO IGD: 0.13824729109588368\n",
      "invTrEMO IGD: 0.13824729109588368\n",
      "invTrEMO IGD: 0.13824729109588368\n",
      "invTrEMO IGD: 0.13793772634305435\n",
      "invTrEMO IGD: 0.13793772634305435\n",
      "invTrEMO IGD: 0.13766400715607632\n",
      "invTrEMO IGD: 0.13766400715607632\n",
      "invTrEMO IGD: 0.13654449613518765\n",
      "invTrEMO IGD: 0.13467220340428226\n",
      "invTrEMO IGD: 0.13461248018269217\n",
      "invTrEMO IGD: 0.13461248018269217\n",
      "invTrEMO IGD: 0.13447989604997454\n",
      "invTrEMO IGD: 0.1296372914166389\n",
      "invTrEMO IGD: 0.1296372914166389\n",
      "invTrEMO IGD: 0.1296372914166389\n",
      "invTrEMO IGD: 0.12627906606809566\n",
      "invTrEMO IGD: 0.12619487918819985\n",
      "invTrEMO IGD: 0.12619487918819985\n",
      "invTrEMO IGD: 0.12618152705600677\n",
      "invTrEMO IGD: 0.12365906467590544\n",
      "invTrEMO IGD: 0.12365906467590544\n",
      "invTrEMO IGD: 0.123432114392055\n",
      "invTrEMO IGD: 0.123432114392055\n",
      "invTrEMO IGD: 0.12324730836186956\n",
      "invTrEMO IGD: 0.1230269894763262\n",
      "invTrEMO IGD: 0.12288547125856958\n",
      "invTrEMO IGD: 0.12128304718194731\n",
      "invTrEMO IGD: 0.12118068388749982\n",
      "invTrEMO IGD: 0.11566387465505372\n",
      "invTrEMO IGD: 0.11527591376191308\n",
      "invTrEMO IGD: 0.11527499273490326\n",
      "invTrEMO IGD: 0.11295676489028726\n",
      "invTrEMO IGD: 0.11135439972689333\n",
      "invTrEMO IGD: 0.11135439972689333\n",
      "invTrEMO IGD: 0.11135439972689333\n",
      "invTrEMO IGD: 0.11135439972689333\n",
      "invTrEMO IGD: 0.11104757393966645\n",
      "invTrEMO IGD: 0.11104757393966645\n"
     ]
    }
   ],
   "source": [
    "import numpy as np\n",
    "\n",
    "Pop = np.random.rand(20,test_problem.dim)\n",
    "inv_tgps, recorded_IGD, target_data = invTrEMO(test_problem,source_data,init_pop=Pop)"
   ]
  },
  {
   "cell_type": "markdown",
   "metadata": {},
   "source": [
    "Let us test the performance of ITEMO. Firstly, we sample a set of points from the Pareto Front. For mDTLZ2-(1,0), the points are sampled as follows."
   ]
  },
  {
   "cell_type": "code",
   "execution_count": 14,
   "metadata": {},
   "outputs": [],
   "source": [
    "from Utils import generate_w\n",
    "\n",
    "w_sample = generate_w(test_problem.obj_num,2000)\n",
    "y_true = w_sample / np.sqrt(np.sum(w_sample**2,axis=1)).reshape(-1,1)"
   ]
  },
  {
   "cell_type": "markdown",
   "metadata": {},
   "source": [
    "Then, the RMSE can be calculated by calculating the error between the predicted mean of the inverse TGPs and the true data."
   ]
  },
  {
   "cell_type": "code",
   "execution_count": 15,
   "metadata": {},
   "outputs": [
    {
     "name": "stdout",
     "output_type": "stream",
     "text": [
      "invTrEMO RMSE Result:0.019851450740226394\n"
     ]
    }
   ],
   "source": [
    "x_sample, _ = inv_tgps.predict(w_sample)\n",
    "x_sample = (x_sample >= test_problem.standard_bounds[0:1,:])*x_sample + (x_sample < test_problem.standard_bounds[0:1,:])*test_problem.standard_bounds[0:1,:]\n",
    "x_sample = (x_sample <= test_problem.standard_bounds[1:2,:])*x_sample + (x_sample > test_problem.standard_bounds[1:2,:])*test_problem.standard_bounds[1:2,:]\n",
    "y_pred = test_problem(x_sample)\n",
    "RMSE = np.sqrt(np.mean((y_pred - y_true)**2))\n",
    "print(\"invTrEMO RMSE Result:\"+str(RMSE))"
   ]
  },
  {
   "cell_type": "markdown",
   "metadata": {},
   "source": [
    "Next, we compare it with ParEGO. After ParEGO find a set of nondominated solutions, inverse GP models are build. The result is recorded as ParEGO. Moreover, we also build inverse TGP models based on source data and the nondominated solutions obtained ParEGO, the result is recorded as ParEGO-HS"
   ]
  },
  {
   "cell_type": "code",
   "execution_count": 16,
   "metadata": {},
   "outputs": [
    {
     "name": "stdout",
     "output_type": "stream",
     "text": [
      "ParEGO IGD: 0.4828591457455559\n",
      "ParEGO IGD: 0.4378828613469894\n",
      "ParEGO IGD: 0.3834513960848409\n",
      "ParEGO IGD: 0.3834513960848409\n",
      "ParEGO IGD: 0.3834513960848409\n",
      "ParEGO IGD: 0.3629253842930946\n",
      "ParEGO IGD: 0.3629253842930946\n",
      "ParEGO IGD: 0.3629253842930946\n",
      "ParEGO IGD: 0.36291527259865297\n",
      "ParEGO IGD: 0.36291527259865297\n",
      "ParEGO IGD: 0.36291527259865297\n",
      "ParEGO IGD: 0.3617268694229245\n",
      "ParEGO IGD: 0.3267608480335444\n",
      "ParEGO IGD: 0.3192959670003334\n",
      "ParEGO IGD: 0.3192959670003334\n",
      "ParEGO IGD: 0.3192959670003334\n",
      "ParEGO IGD: 0.3192959670003334\n",
      "ParEGO IGD: 0.29575743333550214\n",
      "ParEGO IGD: 0.29575743333550214\n",
      "ParEGO IGD: 0.29575743333550214\n",
      "ParEGO IGD: 0.29448549906026295\n",
      "ParEGO IGD: 0.29448549906026295\n",
      "ParEGO IGD: 0.29020564571798724\n",
      "ParEGO IGD: 0.29020564571798724\n",
      "ParEGO IGD: 0.29020564571798724\n",
      "ParEGO IGD: 0.29020564571798724\n",
      "ParEGO IGD: 0.29020564571798724\n",
      "ParEGO IGD: 0.28916725949976013\n",
      "ParEGO IGD: 0.28916725949976013\n",
      "ParEGO IGD: 0.28916725949976013\n",
      "ParEGO IGD: 0.28916725949976013\n",
      "ParEGO IGD: 0.28916725949976013\n",
      "ParEGO IGD: 0.28916725949976013\n",
      "ParEGO IGD: 0.28916725949976013\n",
      "ParEGO IGD: 0.28916725949976013\n",
      "ParEGO IGD: 0.28916725949976013\n",
      "ParEGO IGD: 0.28916725949976013\n",
      "ParEGO IGD: 0.28916725949976013\n",
      "ParEGO IGD: 0.28803079233399514\n",
      "ParEGO IGD: 0.28803079233399514\n",
      "ParEGO IGD: 0.28803079233399514\n",
      "ParEGO IGD: 0.28803079233399514\n",
      "ParEGO IGD: 0.28803079233399514\n",
      "ParEGO IGD: 0.28773218711711285\n",
      "ParEGO IGD: 0.28773218711711285\n",
      "ParEGO IGD: 0.28773218711711285\n",
      "ParEGO IGD: 0.28742985537675086\n",
      "ParEGO IGD: 0.28742985537675086\n",
      "ParEGO IGD: 0.28716438335377287\n",
      "ParEGO IGD: 0.28716438335377287\n",
      "ParEGO IGD: 0.28716438335377287\n",
      "ParEGO IGD: 0.28715184738011273\n",
      "ParEGO IGD: 0.2870464509345084\n",
      "ParEGO IGD: 0.27680529851499297\n",
      "ParEGO IGD: 0.26976704298525994\n",
      "ParEGO IGD: 0.26976704298525994\n",
      "ParEGO IGD: 0.2658062485628086\n",
      "ParEGO IGD: 0.2658062485628086\n",
      "ParEGO IGD: 0.2610237708663485\n",
      "ParEGO IGD: 0.2320861139737321\n",
      "ParEGO IGD: 0.23184309751216198\n",
      "ParEGO IGD: 0.23184309751216198\n",
      "ParEGO IGD: 0.23184309751216198\n",
      "ParEGO IGD: 0.23184309751216198\n",
      "ParEGO IGD: 0.23157932188392374\n",
      "ParEGO IGD: 0.23157932188392374\n",
      "ParEGO IGD: 0.23157932188392374\n",
      "ParEGO IGD: 0.23157932188392374\n",
      "ParEGO IGD: 0.21679576731914793\n",
      "ParEGO IGD: 0.21679576731914793\n",
      "ParEGO IGD: 0.21679576731914793\n",
      "ParEGO IGD: 0.21679576731914793\n",
      "ParEGO IGD: 0.21679576731914793\n",
      "ParEGO IGD: 0.2130241254773403\n",
      "ParEGO IGD: 0.2130241254773403\n",
      "ParEGO IGD: 0.21155398196719988\n",
      "ParEGO IGD: 0.21155398196719988\n",
      "ParEGO IGD: 0.21155398196719988\n",
      "ParEGO IGD: 0.21110600050998096\n",
      "ParEGO IGD: 0.20742306547561284\n",
      "ParEGO-UCB RMSE Result (No Transfer):0.05635106870759164\n",
      "ParEGO-UCB RMSE Result (Transfer):0.04434349732091986\n"
     ]
    }
   ],
   "source": [
    "from ParEGO_UCB import ParEGO_UCB\n",
    "\n",
    "inv_tgps_parego, Recorded_ParEGO_IGD, target_data_parego = ParEGO_UCB(test_problem,source_data,init_pop=Pop)\n",
    "x_sample, _ = inv_tgps_parego.predict_gp(w_sample)\n",
    "x_sample = (x_sample >= test_problem.standard_bounds[0:1,:])*x_sample + (x_sample < test_problem.standard_bounds[0:1,:])*test_problem.standard_bounds[0:1,:]\n",
    "x_sample = (x_sample <= test_problem.standard_bounds[1:2,:])*x_sample + (x_sample > test_problem.standard_bounds[1:2,:])*test_problem.standard_bounds[1:2,:]\n",
    "y_pred = test_problem(x_sample)\n",
    "RMSE_parego = np.sqrt(np.mean((y_pred - y_true)**2))\n",
    "print(\"ParEGO-UCB RMSE Result (No Transfer):\"+str(RMSE_parego))\n",
    "\n",
    "x_sample, _ = inv_tgps_parego.predict(w_sample)\n",
    "x_sample = (x_sample >= test_problem.standard_bounds[0:1,:])*x_sample + (x_sample < test_problem.standard_bounds[0:1,:])*test_problem.standard_bounds[0:1,:]\n",
    "x_sample = (x_sample <= test_problem.standard_bounds[1:2,:])*x_sample + (x_sample > test_problem.standard_bounds[1:2,:])*test_problem.standard_bounds[1:2,:]\n",
    "y_pred = test_problem(x_sample)\n",
    "RMSE_parego = np.sqrt(np.mean((y_pred - y_true)**2))\n",
    "print(\"ParEGO-UCB RMSE Result (Transfer):\"+str(RMSE_parego))"
   ]
  },
  {
   "cell_type": "markdown",
   "metadata": {},
   "source": [
    "The convergence trends also show that ITEMO is able to provide better convergence."
   ]
  },
  {
   "cell_type": "code",
   "execution_count": 17,
   "metadata": {},
   "outputs": [
    {
     "data": {
      "image/png": "[encoded data removed]",
      "text/plain": [
       "<Figure size 640x480 with 1 Axes>"
      ]
     },
     "metadata": {},
     "output_type": "display_data"
    }
   ],
   "source": [
    "import matplotlib.pyplot as plt\n",
    "\n",
    "plt.plot(np.array(Recorded_ParEGO_IGD), color = 'blue', label = 'ParEGO')\n",
    "plt.plot(np.array(recorded_IGD), color = 'red', label = 'ITEMO')\n",
    "plt.legend()\n",
    "# plt.semilogy()\n",
    "plt.show()"
   ]
  }
 ],
 "metadata": {
  "kernelspec": {
   "display_name": "base",
   "language": "python",
   "name": "python3"
  },
  "language_info": {
   "codemirror_mode": {
    "name": "ipython",
    "version": 3
   },
   "file_extension": ".py",
   "mimetype": "text/x-python",
   "name": "python",
   "nbconvert_exporter": "python",
   "pygments_lexer": "ipython3",
   "version": "3.9.13"
  },
  "orig_nbformat": 4
 },
 "nbformat": 4,
 "nbformat_minor": 2
}
