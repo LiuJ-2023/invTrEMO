{
 "cells": [
  {
   "cell_type": "markdown",
   "metadata": {},
   "source": [
    "This notebook aims to introduce how to run ITEMO"
   ]
  },
  {
   "cell_type": "code",
   "execution_count": 1,
   "metadata": {},
   "outputs": [],
   "source": [
    "from invTrEMO import invTrEMO"
   ]
  },
  {
   "cell_type": "markdown",
   "metadata": {},
   "source": [
    "First, let us define the target problem. In this notebook, we employ mDTLZ2-(1,0) as the example"
   ]
  },
  {
   "cell_type": "code",
   "execution_count": 2,
   "metadata": {},
   "outputs": [],
   "source": [
    "import dtlz\n",
    "test_problem = dtlz.DTLZ2(obj_num=3,n_var=8)"
   ]
  },
  {
   "cell_type": "markdown",
   "metadata": {},
   "source": []
  },
  {
   "cell_type": "markdown",
   "metadata": {},
   "source": [
    "Then, generate the source dataset. The user could generate any source dataset by using \"creat_source_data.py\". Here, we directly use a predefined dataset."
   ]
  },
  {
   "cell_type": "code",
   "execution_count": 3,
   "metadata": {},
   "outputs": [],
   "source": [
    "import pickle\n",
    "\n",
    "source_data = pickle.load(open(\"source_data_dtlz2_hs.p\", \"rb\"))"
   ]
  },
  {
   "cell_type": "markdown",
   "metadata": {},
   "source": [
    "After the preparion, we can run ITEMO"
   ]
  },
  {
   "cell_type": "code",
   "execution_count": 4,
   "metadata": {},
   "outputs": [
    {
     "name": "stdout",
     "output_type": "stream",
     "text": [
      "ITEMO IGD: 0.3867363544106277\n"
     ]
    },
    {
     "name": "stderr",
     "output_type": "stream",
     "text": [
      "i:\\invTrEMO\\invTrEMO\\InvGPList.py:254: UserWarning: To copy construct from a tensor, it is recommended to use sourceTensor.clone().detach() or sourceTensor.clone().detach().requires_grad_(True), rather than torch.tensor(sourceTensor).\n",
      "  self.model_list.models[i].mean_module.constant.data = torch.tensor(self.set_mean[i])\n"
     ]
    },
    {
     "name": "stdout",
     "output_type": "stream",
     "text": [
      "ITEMO IGD: 0.35485266380621194\n",
      "ITEMO IGD: 0.3213704430047811\n",
      "ITEMO IGD: 0.3083841618925979\n",
      "ITEMO IGD: 0.28317545185470383\n",
      "ITEMO IGD: 0.26349135806101975\n",
      "ITEMO IGD: 0.26345992677449465\n",
      "ITEMO IGD: 0.2586774549649252\n",
      "ITEMO IGD: 0.2539440333553063\n",
      "ITEMO IGD: 0.2530659830041531\n",
      "ITEMO IGD: 0.25277204615173565\n",
      "ITEMO IGD: 0.2521323047300933\n",
      "ITEMO IGD: 0.2519954099956362\n",
      "ITEMO IGD: 0.2519954099956362\n",
      "ITEMO IGD: 0.24323576611512343\n",
      "ITEMO IGD: 0.24130142910556998\n",
      "ITEMO IGD: 0.24130142910556998\n",
      "ITEMO IGD: 0.2397625207706225\n",
      "ITEMO IGD: 0.23966506687915776\n",
      "ITEMO IGD: 0.21486326329093727\n",
      "ITEMO IGD: 0.18934975774890656\n",
      "ITEMO IGD: 0.18896901508549482\n",
      "ITEMO IGD: 0.18863816411675893\n",
      "ITEMO IGD: 0.18778387934205443\n",
      "ITEMO IGD: 0.18778387934205443\n",
      "ITEMO IGD: 0.16742787717405366\n",
      "ITEMO IGD: 0.16742787717405366\n",
      "ITEMO IGD: 0.16493698229573067\n",
      "ITEMO IGD: 0.1645926524007454\n",
      "ITEMO IGD: 0.1606423152678307\n",
      "ITEMO IGD: 0.16002866932187382\n",
      "ITEMO IGD: 0.15584807538667472\n",
      "ITEMO IGD: 0.1528256559691864\n",
      "ITEMO IGD: 0.150320169395067\n",
      "ITEMO IGD: 0.14792891951720588\n",
      "ITEMO IGD: 0.1479288711676798\n",
      "ITEMO IGD: 0.14425303409097734\n",
      "ITEMO IGD: 0.1442525532688978\n",
      "ITEMO IGD: 0.1442525532688978\n",
      "ITEMO IGD: 0.14425151380366624\n",
      "ITEMO IGD: 0.14411878644814655\n",
      "ITEMO IGD: 0.13898600119401194\n",
      "ITEMO IGD: 0.13893570898365348\n",
      "ITEMO IGD: 0.13500564255122768\n",
      "ITEMO IGD: 0.13454931487046118\n",
      "ITEMO IGD: 0.13438452390765446\n",
      "ITEMO IGD: 0.13412605286542303\n",
      "ITEMO IGD: 0.13395024225983515\n",
      "ITEMO IGD: 0.13395024225983515\n",
      "ITEMO IGD: 0.13395024225983515\n",
      "ITEMO IGD: 0.13395024225983515\n",
      "ITEMO IGD: 0.1338814008572838\n",
      "ITEMO IGD: 0.1337920224255939\n",
      "ITEMO IGD: 0.1337920224255939\n",
      "ITEMO IGD: 0.1337920224255939\n",
      "ITEMO IGD: 0.13356890534879784\n",
      "ITEMO IGD: 0.13356890534879784\n",
      "ITEMO IGD: 0.13356222256997163\n",
      "ITEMO IGD: 0.1335233003289734\n",
      "ITEMO IGD: 0.13352233882568815\n",
      "ITEMO IGD: 0.13155467138591026\n",
      "ITEMO IGD: 0.13155467138591026\n",
      "ITEMO IGD: 0.12738782334133822\n",
      "ITEMO IGD: 0.12325524273211631\n",
      "ITEMO IGD: 0.1231171465188822\n",
      "ITEMO IGD: 0.12222407049122848\n",
      "ITEMO IGD: 0.12172267015395451\n",
      "ITEMO IGD: 0.12160401760214802\n",
      "ITEMO IGD: 0.12160401760214802\n",
      "ITEMO IGD: 0.12104092836243853\n",
      "ITEMO IGD: 0.12104080018180102\n",
      "ITEMO IGD: 0.1199386395949922\n",
      "ITEMO IGD: 0.1199386395949922\n",
      "ITEMO IGD: 0.1197362741568226\n",
      "ITEMO IGD: 0.1172490861339365\n",
      "ITEMO IGD: 0.116720305712875\n",
      "ITEMO IGD: 0.116510048417184\n",
      "ITEMO IGD: 0.11643533908932563\n",
      "ITEMO IGD: 0.11386141705143973\n",
      "ITEMO IGD: 0.11386141705143973\n"
     ]
    }
   ],
   "source": [
    "import numpy as np\n",
    "\n",
    "Pop = np.random.rand(20,test_problem.dim)\n",
    "inv_tgps, recorded_IGD, target_data = invTrEMO(test_problem,source_data,init_pop=Pop)"
   ]
  },
  {
   "cell_type": "markdown",
   "metadata": {},
   "source": [
    "Let us test the performance of ITEMO. Firstly, we sample a set of points from the Pareto Front. For mDTLZ2-(1,0), the points are sampled as follows."
   ]
  },
  {
   "cell_type": "code",
   "execution_count": 5,
   "metadata": {},
   "outputs": [],
   "source": [
    "from Utils import generate_w\n",
    "\n",
    "w_sample = generate_w(test_problem.obj_num,2000)\n",
    "y_true = w_sample / np.sqrt(np.sum(w_sample**2,axis=1)).reshape(-1,1)"
   ]
  },
  {
   "cell_type": "markdown",
   "metadata": {},
   "source": [
    "Then, the RMSE can be calculated by calculating the error between the predicted mean of the inverse TGPs and the true data."
   ]
  },
  {
   "cell_type": "code",
   "execution_count": 6,
   "metadata": {},
   "outputs": [
    {
     "name": "stdout",
     "output_type": "stream",
     "text": [
      "ITEMO RMSE Result:0.014759376033484465\n"
     ]
    }
   ],
   "source": [
    "x_sample, _ = inv_tgps.predict(w_sample)\n",
    "x_sample = (x_sample >= test_problem.standard_bounds[0:1,:])*x_sample + (x_sample < test_problem.standard_bounds[0:1,:])*test_problem.standard_bounds[0:1,:]\n",
    "x_sample = (x_sample <= test_problem.standard_bounds[1:2,:])*x_sample + (x_sample > test_problem.standard_bounds[1:2,:])*test_problem.standard_bounds[1:2,:]\n",
    "y_pred = test_problem(x_sample)\n",
    "RMSE = np.sqrt(np.mean((y_pred - y_true)**2))\n",
    "print(\"invTrEMO RMSE Result:\"+str(RMSE))"
   ]
  },
  {
   "cell_type": "markdown",
   "metadata": {},
   "source": [
    "Next, we compare it with ParEGO. After ParEGO find a set of nondominated solutions, inverse GP models are build. The result is recorded as ParEGO. Moreover, we also build inverse TGP models based on source data and the nondominated solutions obtained ParEGO, the result is recorded as ParEGO-HS"
   ]
  },
  {
   "cell_type": "code",
   "execution_count": 7,
   "metadata": {},
   "outputs": [
    {
     "name": "stdout",
     "output_type": "stream",
     "text": [
      "ParEGO IGD: 0.3867363544106277\n",
      "ParEGO IGD: 0.3346087678593356\n",
      "ParEGO IGD: 0.3210051185547212\n",
      "ParEGO IGD: 0.2951333057078207\n",
      "ParEGO IGD: 0.2561300370791876\n",
      "ParEGO IGD: 0.25590282861939934\n",
      "ParEGO IGD: 0.24706950583752196\n",
      "ParEGO IGD: 0.24567199057716635\n",
      "ParEGO IGD: 0.24398541083930778\n",
      "ParEGO IGD: 0.24398541083930778\n",
      "ParEGO IGD: 0.24398541083930778\n",
      "ParEGO IGD: 0.24398541083930778\n",
      "ParEGO IGD: 0.24398541083930778\n",
      "ParEGO IGD: 0.24398541083930778\n",
      "ParEGO IGD: 0.22740264498240575\n",
      "ParEGO IGD: 0.2220311262709599\n",
      "ParEGO IGD: 0.22138499924940355\n",
      "ParEGO IGD: 0.21805152635517958\n",
      "ParEGO IGD: 0.21805152635517958\n",
      "ParEGO IGD: 0.21803619056285878\n",
      "ParEGO IGD: 0.217320366406263\n",
      "ParEGO IGD: 0.21636353762743182\n",
      "ParEGO IGD: 0.2120054000183848\n",
      "ParEGO IGD: 0.21176567087530165\n",
      "ParEGO IGD: 0.21176567087530165\n",
      "ParEGO IGD: 0.21176567087530165\n",
      "ParEGO IGD: 0.2011346438718611\n",
      "ParEGO IGD: 0.2011346438718611\n",
      "ParEGO IGD: 0.2011346438718611\n",
      "ParEGO IGD: 0.2011346438718611\n",
      "ParEGO IGD: 0.19717023602874362\n",
      "ParEGO IGD: 0.1901770515876542\n",
      "ParEGO IGD: 0.1901770515876542\n",
      "ParEGO IGD: 0.18667032541622042\n",
      "ParEGO IGD: 0.18274619508404413\n",
      "ParEGO IGD: 0.17555960617774227\n",
      "ParEGO IGD: 0.17541543540183857\n",
      "ParEGO IGD: 0.16841970996704222\n",
      "ParEGO IGD: 0.16689188916776948\n",
      "ParEGO IGD: 0.16579213629102824\n",
      "ParEGO IGD: 0.1637187986890415\n",
      "ParEGO IGD: 0.1637187986890415\n",
      "ParEGO IGD: 0.16330562073431018\n",
      "ParEGO IGD: 0.16330562073431018\n",
      "ParEGO IGD: 0.16249704114949778\n",
      "ParEGO IGD: 0.16249704114949778\n",
      "ParEGO IGD: 0.16150595741162665\n",
      "ParEGO IGD: 0.16150595741162665\n",
      "ParEGO IGD: 0.16150595741162665\n",
      "ParEGO IGD: 0.16150595741162665\n",
      "ParEGO IGD: 0.16150595741162665\n",
      "ParEGO IGD: 0.16150595741162665\n",
      "ParEGO IGD: 0.16150595741162665\n",
      "ParEGO IGD: 0.16150595741162665\n",
      "ParEGO IGD: 0.1614445784298013\n",
      "ParEGO IGD: 0.1614445784298013\n",
      "ParEGO IGD: 0.1614445784298013\n",
      "ParEGO IGD: 0.1590454045243976\n",
      "ParEGO IGD: 0.1590454045243976\n",
      "ParEGO IGD: 0.15760072130847508\n",
      "ParEGO IGD: 0.1499712493314747\n",
      "ParEGO IGD: 0.1499712493314747\n",
      "ParEGO IGD: 0.1499712493314747\n",
      "ParEGO IGD: 0.1499712493314747\n",
      "ParEGO IGD: 0.1499712493314747\n",
      "ParEGO IGD: 0.1499712493314747\n",
      "ParEGO IGD: 0.14901105840857373\n",
      "ParEGO IGD: 0.14901105840857373\n",
      "ParEGO IGD: 0.14894689674975237\n",
      "ParEGO IGD: 0.14894689674975237\n",
      "ParEGO IGD: 0.14894689674975237\n",
      "ParEGO IGD: 0.14894689674975237\n",
      "ParEGO IGD: 0.14796163348760524\n",
      "ParEGO IGD: 0.14796163348760524\n",
      "ParEGO IGD: 0.14796163348760524\n",
      "ParEGO IGD: 0.14796163348760524\n",
      "ParEGO IGD: 0.14796163348760524\n",
      "ParEGO IGD: 0.14796163348760524\n",
      "ParEGO IGD: 0.14353271707738371\n",
      "ParEGO IGD: 0.14353271707738371\n",
      "ParEGO RMSE Result (No Transfer):0.03657563695541327\n",
      "ParEGO-HS RMSE Result (Transfer):0.02721922418934834\n"
     ]
    }
   ],
   "source": [
    "from ParEGO_UCB import ParEGO_UCB\n",
    "\n",
    "inv_tgps_parego, Recorded_ParEGO_IGD, target_data_parego = ParEGO_UCB(test_problem,source_data,init_pop=Pop)\n",
    "x_sample, _ = inv_tgps_parego.predict_gp(w_sample)\n",
    "x_sample = (x_sample >= test_problem.standard_bounds[0:1,:])*x_sample + (x_sample < test_problem.standard_bounds[0:1,:])*test_problem.standard_bounds[0:1,:]\n",
    "x_sample = (x_sample <= test_problem.standard_bounds[1:2,:])*x_sample + (x_sample > test_problem.standard_bounds[1:2,:])*test_problem.standard_bounds[1:2,:]\n",
    "y_pred = test_problem(x_sample)\n",
    "RMSE_parego = np.sqrt(np.mean((y_pred - y_true)**2))\n",
    "print(\"ParEGO-UCB RMSE Result (No Transfer):\"+str(RMSE_parego))\n",
    "\n",
    "x_sample, _ = inv_tgps_parego.predict(w_sample)\n",
    "x_sample = (x_sample >= test_problem.standard_bounds[0:1,:])*x_sample + (x_sample < test_problem.standard_bounds[0:1,:])*test_problem.standard_bounds[0:1,:]\n",
    "x_sample = (x_sample <= test_problem.standard_bounds[1:2,:])*x_sample + (x_sample > test_problem.standard_bounds[1:2,:])*test_problem.standard_bounds[1:2,:]\n",
    "y_pred = test_problem(x_sample)\n",
    "RMSE_parego = np.sqrt(np.mean((y_pred - y_true)**2))\n",
    "print(\"ParEGO-UCB RMSE Result (Transfer):\"+str(RMSE_parego))"
   ]
  },
  {
   "cell_type": "markdown",
   "metadata": {},
   "source": [
    "The convergence trends also show that ITEMO is able to provide better convergence."
   ]
  },
  {
   "cell_type": "code",
   "execution_count": 8,
   "metadata": {},
   "outputs": [
    {
     "data": {
      "image/png": "[encoded data removed]",
      "text/plain": [
       "<Figure size 640x480 with 1 Axes>"
      ]
     },
     "metadata": {},
     "output_type": "display_data"
    }
   ],
   "source": [
    "import matplotlib.pyplot as plt\n",
    "\n",
    "plt.plot(np.array(Recorded_ParEGO_IGD), color = 'blue', label = 'ParEGO')\n",
    "plt.plot(np.array(recorded_IGD), color = 'red', label = 'ITEMO')\n",
    "plt.legend()\n",
    "# plt.semilogy()\n",
    "plt.show()"
   ]
  }
 ],
 "metadata": {
  "kernelspec": {
   "display_name": "base",
   "language": "python",
   "name": "python3"
  },
  "language_info": {
   "codemirror_mode": {
    "name": "ipython",
    "version": 3
   },
   "file_extension": ".py",
   "mimetype": "text/x-python",
   "name": "python",
   "nbconvert_exporter": "python",
   "pygments_lexer": "ipython3",
   "version": "3.9.13"
  },
  "orig_nbformat": 4
 },
 "nbformat": 4,
 "nbformat_minor": 2
}
